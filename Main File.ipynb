{
 "cells": [
  {
   "cell_type": "code",
   "execution_count": null,
   "id": "60447a01",
   "metadata": {},
   "outputs": [],
   "source": [
    "import json\n",
    "from difflib import get_close_matches\n",
    "with open('data.json') as f:\n",
    "  data = json.load(f)\n",
    "def translate(word):\n",
    "    word = word.lower()\n",
    "    if word in data:\n",
    "        return data[word]\n",
    "    elif word.title() in data:\n",
    "        return data[word.title()]\n",
    "    elif word.upper() in data:\n",
    "        return data[word.upper()]\n",
    "    elif len(get_close_matches(word, data.keys())) > 0:\n",
    "        print(\"do you want to find %s\" %get_close_matches(word, data.keys())[0])\n",
    "        decide = input(\"press y for yes and n for no\")\n",
    "        if decide == \"y\":\n",
    "            return data[get_close_matches(word, data.keys())[0]]\n",
    "        elif decide == \"n\":\n",
    "            return(\"Wrong search!! Please try again\")\n",
    "        else:\n",
    "            return(\"Wrong input! Please enter y or n\")\n",
    "    else:\n",
    "        print(\"Wrong search!! Please try again\")\n",
    "        \n",
    "word = input(\"Enter the word you want to search:\")\n",
    "output = translate(word)\n",
    "if type(output) == list:\n",
    "    for item in output:\n",
    "        print(item)\n",
    "else:\n",
    "    print(output)"
   ]
  },
  {
   "cell_type": "code",
   "execution_count": null,
   "id": "c5ee9f94",
   "metadata": {},
   "outputs": [],
   "source": []
  },
  {
   "cell_type": "code",
   "execution_count": null,
   "id": "104fd9b4",
   "metadata": {},
   "outputs": [],
   "source": []
  }
 ],
 "metadata": {
  "kernelspec": {
   "display_name": "Python 3 (ipykernel)",
   "language": "python",
   "name": "python3"
  },
  "language_info": {
   "codemirror_mode": {
    "name": "ipython",
    "version": 3
   },
   "file_extension": ".py",
   "mimetype": "text/x-python",
   "name": "python",
   "nbconvert_exporter": "python",
   "pygments_lexer": "ipython3",
   "version": "3.9.12"
  }
 },
 "nbformat": 4,
 "nbformat_minor": 5
}
